{
 "cells": [
  {
   "cell_type": "code",
   "execution_count": 3,
   "metadata": {},
   "outputs": [],
   "source": [
    "import pandas as pd\n",
    "import numpy as np\n",
    "import sklearn\n",
    "from sklearn.decomposition import TruncatedSVD\n",
    "\n",
    "Movies_Details = pd.read_csv('C:/tmdb_movies_detail.csv', sep = '|', encoding='utf-8')  "
   ]
  },
  {
   "cell_type": "code",
   "execution_count": 4,
   "metadata": {},
   "outputs": [
    {
     "data": {
      "text/html": [
       "<div>\n",
       "<style scoped>\n",
       "    .dataframe tbody tr th:only-of-type {\n",
       "        vertical-align: middle;\n",
       "    }\n",
       "\n",
       "    .dataframe tbody tr th {\n",
       "        vertical-align: top;\n",
       "    }\n",
       "\n",
       "    .dataframe thead th {\n",
       "        text-align: right;\n",
       "    }\n",
       "</style>\n",
       "<table border=\"1\" class=\"dataframe\">\n",
       "  <thead>\n",
       "    <tr style=\"text-align: right;\">\n",
       "      <th></th>\n",
       "      <th>movieId</th>\n",
       "      <th>genres</th>\n",
       "      <th>title</th>\n",
       "      <th>original_language</th>\n",
       "      <th>overview</th>\n",
       "      <th>popularity</th>\n",
       "      <th>release_date</th>\n",
       "      <th>runtime</th>\n",
       "      <th>vote_average</th>\n",
       "      <th>vote_count</th>\n",
       "    </tr>\n",
       "  </thead>\n",
       "  <tbody>\n",
       "    <tr>\n",
       "      <th>0</th>\n",
       "      <td>19995</td>\n",
       "      <td>['Action', 'Adventure', 'Fantasy', 'Science Fi...</td>\n",
       "      <td>Avatar</td>\n",
       "      <td>en</td>\n",
       "      <td>In the 22nd century, a paraplegic Marine is di...</td>\n",
       "      <td>150.437577</td>\n",
       "      <td>2009-12-10</td>\n",
       "      <td>162.0</td>\n",
       "      <td>7.2</td>\n",
       "      <td>11800</td>\n",
       "    </tr>\n",
       "    <tr>\n",
       "      <th>1</th>\n",
       "      <td>285</td>\n",
       "      <td>['Adventure', 'Fantasy', 'Action']</td>\n",
       "      <td>Pirates of the Caribbean: At World's End</td>\n",
       "      <td>en</td>\n",
       "      <td>Captain Barbossa, long believed to be dead, ha...</td>\n",
       "      <td>139.082615</td>\n",
       "      <td>2007-05-19</td>\n",
       "      <td>169.0</td>\n",
       "      <td>6.9</td>\n",
       "      <td>4500</td>\n",
       "    </tr>\n",
       "    <tr>\n",
       "      <th>2</th>\n",
       "      <td>206647</td>\n",
       "      <td>['Action', 'Adventure', 'Crime']</td>\n",
       "      <td>Spectre</td>\n",
       "      <td>en</td>\n",
       "      <td>A cryptic message from Bond’s past sends him o...</td>\n",
       "      <td>107.376788</td>\n",
       "      <td>2015-10-26</td>\n",
       "      <td>148.0</td>\n",
       "      <td>6.3</td>\n",
       "      <td>4466</td>\n",
       "    </tr>\n",
       "    <tr>\n",
       "      <th>3</th>\n",
       "      <td>49026</td>\n",
       "      <td>['Action', 'Crime', 'Drama', 'Thriller']</td>\n",
       "      <td>The Dark Knight Rises</td>\n",
       "      <td>en</td>\n",
       "      <td>Following the death of District Attorney Harve...</td>\n",
       "      <td>112.312950</td>\n",
       "      <td>2012-07-16</td>\n",
       "      <td>165.0</td>\n",
       "      <td>7.6</td>\n",
       "      <td>9106</td>\n",
       "    </tr>\n",
       "    <tr>\n",
       "      <th>4</th>\n",
       "      <td>49529</td>\n",
       "      <td>['Action', 'Adventure', 'Science Fiction']</td>\n",
       "      <td>John Carter</td>\n",
       "      <td>en</td>\n",
       "      <td>John Carter is a war-weary, former military ca...</td>\n",
       "      <td>43.926995</td>\n",
       "      <td>2012-03-07</td>\n",
       "      <td>132.0</td>\n",
       "      <td>6.1</td>\n",
       "      <td>2124</td>\n",
       "    </tr>\n",
       "  </tbody>\n",
       "</table>\n",
       "</div>"
      ],
      "text/plain": [
       "   movieId                                             genres  \\\n",
       "0    19995  ['Action', 'Adventure', 'Fantasy', 'Science Fi...   \n",
       "1      285                 ['Adventure', 'Fantasy', 'Action']   \n",
       "2   206647                   ['Action', 'Adventure', 'Crime']   \n",
       "3    49026           ['Action', 'Crime', 'Drama', 'Thriller']   \n",
       "4    49529         ['Action', 'Adventure', 'Science Fiction']   \n",
       "\n",
       "                                      title original_language  \\\n",
       "0                                    Avatar                en   \n",
       "1  Pirates of the Caribbean: At World's End                en   \n",
       "2                                   Spectre                en   \n",
       "3                     The Dark Knight Rises                en   \n",
       "4                               John Carter                en   \n",
       "\n",
       "                                            overview  popularity release_date  \\\n",
       "0  In the 22nd century, a paraplegic Marine is di...  150.437577   2009-12-10   \n",
       "1  Captain Barbossa, long believed to be dead, ha...  139.082615   2007-05-19   \n",
       "2  A cryptic message from Bond’s past sends him o...  107.376788   2015-10-26   \n",
       "3  Following the death of District Attorney Harve...  112.312950   2012-07-16   \n",
       "4  John Carter is a war-weary, former military ca...   43.926995   2012-03-07   \n",
       "\n",
       "   runtime  vote_average  vote_count  \n",
       "0    162.0           7.2       11800  \n",
       "1    169.0           6.9        4500  \n",
       "2    148.0           6.3        4466  \n",
       "3    165.0           7.6        9106  \n",
       "4    132.0           6.1        2124  "
      ]
     },
     "execution_count": 4,
     "metadata": {},
     "output_type": "execute_result"
    }
   ],
   "source": [
    "Movies_Details.head()"
   ]
  },
  {
   "cell_type": "code",
   "execution_count": 5,
   "metadata": {},
   "outputs": [],
   "source": [
    "from sklearn.feature_extraction.text import TfidfVectorizer"
   ]
  },
  {
   "cell_type": "code",
   "execution_count": 6,
   "metadata": {},
   "outputs": [],
   "source": [
    "#Elimina de cada descripcion todos los caracteres innecesarios y lo convierte en una matriz TF-IDF\n",
    "Vectorized_Result = TfidfVectorizer(min_df=3, max_features=None,\n",
    "                      strip_accents='unicode', analyzer='word', token_pattern=r'\\w{1,}',\n",
    "                      ngram_range=(1, 3),\n",
    "                      stop_words='english')\n",
    "\n",
    "#En caso de que alguna pelicula se haya quedado con el campo overview vacía, llenamos con ''\n",
    "Movies_Details['overview']=Movies_Details['overview'].fillna('')"
   ]
  },
  {
   "cell_type": "code",
   "execution_count": 7,
   "metadata": {},
   "outputs": [],
   "source": [
    "Vectorized_Matrix = Vectorized_Result.fit_transform(Movies_Details['overview'])"
   ]
  },
  {
   "cell_type": "code",
   "execution_count": 9,
   "metadata": {},
   "outputs": [],
   "source": [
    "#buscamos los valores de similaridad, sigmoid_kernel recibirá dos vectores de dos overviews de peliculas distintas y calculará su similitud del 0 al 1\n",
    "from sklearn.metrics.pairwise import sigmoid_kernel\n",
    "\n",
    "#le paso la misma matriz pues queremos combinaciones de un elemento de \n",
    "#la primera contra todos los elemtnso de la segunda y asi sucesivamente \n",
    "Sigmoid_Result = sigmoid_kernel(Vectorized_Matrix,Vectorized_Matrix)"
   ]
  },
  {
   "cell_type": "code",
   "execution_count": 10,
   "metadata": {},
   "outputs": [],
   "source": [
    "Indices = pd.Series(Movies_Details.index, index=Movies_Details['title']).drop_duplicates()"
   ]
  },
  {
   "cell_type": "code",
   "execution_count": 11,
   "metadata": {},
   "outputs": [
    {
     "data": {
      "text/plain": [
       "title\n",
       "Avatar                                         0\n",
       "Pirates of the Caribbean: At World's End       1\n",
       "Spectre                                        2\n",
       "The Dark Knight Rises                          3\n",
       "John Carter                                    4\n",
       "                                            ... \n",
       "El Mariachi                                 4798\n",
       "Newlyweds                                   4799\n",
       "Signed, Sealed, Delivered                   4800\n",
       "Shanghai Calling                            4801\n",
       "My Date with Drew                           4802\n",
       "Length: 4803, dtype: int64"
      ]
     },
     "execution_count": 11,
     "metadata": {},
     "output_type": "execute_result"
    }
   ],
   "source": [
    "Indices"
   ]
  },
  {
   "cell_type": "code",
   "execution_count": 13,
   "metadata": {},
   "outputs": [],
   "source": [
    "def give_rec(title, Sigmoid_Result=Sigmoid_Result):\n",
    "    #Obtiene el indice de la pelicula solicitada\n",
    "    idx=Indices[title]\n",
    "    \n",
    "    #Obtengo las puntuaciones de similaridad por pares\n",
    "    Sig_Scores = list(enumerate(Sigmoid_Result[idx]))\n",
    "    \n",
    "    #Ordeno las scores de mayor a menor\n",
    "    Sig_Scores = sorted(Sig_Scores, key=lambda x: x[1], reverse=True)\n",
    "    \n",
    "    #Escojo las 10 mejores (ignorando la 0 que será la propia peli contra si misma)\n",
    "    Sig_Scores = Sig_Scores[1:11]\n",
    "    \n",
    "    #Obtengo los indices de las 10 peliculas\n",
    "    Movie_Indices = [i[0] for i in Sig_Scores]\n",
    "    \n",
    "    #Retorno el titulo de las peliculas obtenidas a través de la busqueda de sus indices en mi documento de peliculas original\n",
    "    return Movies_Details['title'].iloc[Movie_Indices]"
   ]
  },
  {
   "cell_type": "code",
   "execution_count": 14,
   "metadata": {},
   "outputs": [
    {
     "data": {
      "text/plain": [
       "3819                 Defendor\n",
       "1359                   Batman\n",
       "3       The Dark Knight Rises\n",
       "428            Batman Returns\n",
       "1720                 Kick-Ass\n",
       "210            Batman & Robin\n",
       "299            Batman Forever\n",
       "119             Batman Begins\n",
       "2638               Metropolis\n",
       "589            Dracula Untold\n",
       "Name: title, dtype: object"
      ]
     },
     "execution_count": 14,
     "metadata": {},
     "output_type": "execute_result"
    }
   ],
   "source": [
    "give_rec('Batman v Superman: Dawn of Justice')"
   ]
  },
  {
   "cell_type": "code",
   "execution_count": null,
   "metadata": {},
   "outputs": [],
   "source": []
  }
 ],
 "metadata": {
  "kernelspec": {
   "display_name": "Python 3",
   "language": "python",
   "name": "python3"
  },
  "language_info": {
   "codemirror_mode": {
    "name": "ipython",
    "version": 3
   },
   "file_extension": ".py",
   "mimetype": "text/x-python",
   "name": "python",
   "nbconvert_exporter": "python",
   "pygments_lexer": "ipython3",
   "version": "3.8.5"
  }
 },
 "nbformat": 4,
 "nbformat_minor": 4
}
